{
 "cells": [
  {
   "cell_type": "code",
   "execution_count": 2,
   "id": "11dcaf27-99cd-4950-adec-693243ab37f3",
   "metadata": {},
   "outputs": [
    {
     "name": "stdout",
     "output_type": "stream",
     "text": [
      "M =  C =  |-{WATER*5}--{BOAT}| M = 3 C = 3\n"
     ]
    },
    {
     "name": "stdin",
     "output_type": "stream",
     "text": [
      "Enter the number of missionaries on boat:  2 \n",
      "Enter the number of cannibals on boat:  0\n"
     ]
    },
    {
     "name": "stdout",
     "output_type": "stream",
     "text": [
      "M =💂 2 C = 0 |B------| M = 1 C = 3\n",
      "You Lose\n"
     ]
    }
   ],
   "source": [
    "from IPython.display import clear_output\n",
    "# Unicode Characters\n",
    "M_ICON = '\\U0001f482'  # 💂\n",
    "C_ICON = '\\U0001f479'  # 👹\n",
    "WATER = '\\U0001f30a' * 5  # 🌊🌊🌊🌊🌊\n",
    "BOAT = '\\U0001f6A2'  # 🚢\n",
    "b_s = 'right'\n",
    "m_r = 3\n",
    "c_r = 3\n",
    "m_l = 0\n",
    "c_l = 0\n",
    "\n",
    "print('M =', m_l, 'C =', c_l, '|------B|', 'M =', m_r, 'C =', c_r)\n",
    "\n",
    "while True:\n",
    "\n",
    "  m = int(input(\"Enter the number of missionaries on boat: \"))\n",
    "  c = int(input(\"Enter the number of cannibals on boat: \"))\n",
    "\n",
    "  if 1 <= m + c <= 2:\n",
    "\n",
    "    if b_s == 'right':\n",
    "      if m <= m_r and c <= c_r:\n",
    "        m_r -= m\n",
    "        c_r -= c\n",
    "        b_s = 'left'\n",
    "        m_l += m\n",
    "        c_l += c\n",
    "        print('M =\\U0001f482', m_l, 'C =', c_l, '|B------|', 'M =', m_r, 'C =', c_r)\n",
    "      else:\n",
    "        print(\"Because of :- 1 \")\n",
    "        continue\n",
    "\n",
    "    elif b_s == 'left':\n",
    "      if m <= m_l and c <= c_l:\n",
    "        m_l -= m\n",
    "        c_l -= c\n",
    "        b_s='right'\n",
    "        m_r += m\n",
    "        c_r += c\n",
    "        print('M =', m_l, 'C =', c_l, '|------B|', 'M =', m_r, 'C =', c_r)\n",
    "      else:\n",
    "        print(\"Because of :- 2\")\n",
    "        continue\n",
    "\n",
    "    if (m_r < c_r and m_r > 0) or (m_l < c_l and m_l > 0):\n",
    "      print(\"You Lose\")\n",
    "      break\n",
    "\n",
    "    if m_l == 3 and c_l == 3 and m_r == 0 and c_r == 0 and b_s == 'left':\n",
    "      print(\"You Win\")\n",
    "      break\n",
    "\n",
    "  else:\n",
    "    print(\"Maximum 2 and Minimum 1\")\n",
    "    continue           "
   ]
  },
  {
   "cell_type": "code",
   "execution_count": 4,
   "id": "88d93faa-3e58-46d7-b8ad-ec56416756b6",
   "metadata": {},
   "outputs": [
    {
     "name": "stdout",
     "output_type": "stream",
     "text": [
      "💂 = 0 👹 = 0 |------B| 💂 = 3 👹 = 3\n"
     ]
    },
    {
     "name": "stdin",
     "output_type": "stream",
     "text": [
      "Enter the number of missionaries on boat:  0\n",
      "Enter the number of cannibals on boat:  2\n"
     ]
    },
    {
     "name": "stdout",
     "output_type": "stream",
     "text": [
      "💂 = 0 👹 = 2 |B------| 💂 = 3 👹 = 1\n",
      "👹👹 🚢 🌊🌊🌊🌊🌊 | 💂💂💂👹\n"
     ]
    },
    {
     "name": "stdin",
     "output_type": "stream",
     "text": [
      "Enter the number of missionaries on boat:  0\n",
      "Enter the number of cannibals on boat:  1\n"
     ]
    },
    {
     "name": "stdout",
     "output_type": "stream",
     "text": [
      "💂 = 0 👹 = 1 |------B| 💂 = 3 👹 = 2\n",
      "👹 | 🌊🌊🌊🌊🌊🚢 💂💂💂👹👹\n"
     ]
    },
    {
     "name": "stdin",
     "output_type": "stream",
     "text": [
      "Enter the number of missionaries on boat:  0\n",
      "Enter the number of cannibals on boat:  2\n"
     ]
    },
    {
     "name": "stdout",
     "output_type": "stream",
     "text": [
      "💂 = 0 👹 = 3 |B------| 💂 = 3 👹 = 0\n",
      "👹👹👹 🚢 🌊🌊🌊🌊🌊 | 💂💂💂\n"
     ]
    },
    {
     "name": "stdin",
     "output_type": "stream",
     "text": [
      "Enter the number of missionaries on boat:  0\n",
      "Enter the number of cannibals on boat:  1\n"
     ]
    },
    {
     "name": "stdout",
     "output_type": "stream",
     "text": [
      "💂 = 0 👹 = 2 |------B| 💂 = 3 👹 = 1\n",
      "👹👹 | 🌊🌊🌊🌊🌊🚢 💂💂💂👹\n"
     ]
    },
    {
     "name": "stdin",
     "output_type": "stream",
     "text": [
      "Enter the number of missionaries on boat:  2\n",
      "Enter the number of cannibals on boat:  0\n"
     ]
    },
    {
     "name": "stdout",
     "output_type": "stream",
     "text": [
      "💂 = 2 👹 = 2 |B------| 💂 = 1 👹 = 1\n",
      "💂💂👹👹 🚢 🌊🌊🌊🌊🌊 | 💂👹\n"
     ]
    },
    {
     "name": "stdin",
     "output_type": "stream",
     "text": [
      "Enter the number of missionaries on boat:  1\n",
      "Enter the number of cannibals on boat:  1\n"
     ]
    },
    {
     "name": "stdout",
     "output_type": "stream",
     "text": [
      "💂 = 1 👹 = 1 |------B| 💂 = 2 👹 = 2\n",
      "💂👹 | 🌊🌊🌊🌊🌊🚢 💂💂👹👹\n"
     ]
    },
    {
     "name": "stdin",
     "output_type": "stream",
     "text": [
      "Enter the number of missionaries on boat:  2\n",
      "Enter the number of cannibals on boat:  0\n"
     ]
    },
    {
     "name": "stdout",
     "output_type": "stream",
     "text": [
      "💂 = 3 👹 = 1 |B------| 💂 = 0 👹 = 2\n",
      "💂💂💂👹 🚢 🌊🌊🌊🌊🌊 | 👹👹\n"
     ]
    },
    {
     "name": "stdin",
     "output_type": "stream",
     "text": [
      "Enter the number of missionaries on boat:  0\n",
      "Enter the number of cannibals on boat:  1\n"
     ]
    },
    {
     "name": "stdout",
     "output_type": "stream",
     "text": [
      "💂 = 3 👹 = 0 |------B| 💂 = 0 👹 = 3\n",
      "💂💂💂 | 🌊🌊🌊🌊🌊🚢 👹👹👹\n"
     ]
    },
    {
     "name": "stdin",
     "output_type": "stream",
     "text": [
      "Enter the number of missionaries on boat:  0\n",
      "Enter the number of cannibals on boat:  2\n"
     ]
    },
    {
     "name": "stdout",
     "output_type": "stream",
     "text": [
      "💂 = 3 👹 = 2 |B------| 💂 = 0 👹 = 1\n",
      "💂💂💂👹👹 🚢 🌊🌊🌊🌊🌊 | 👹\n"
     ]
    },
    {
     "name": "stdin",
     "output_type": "stream",
     "text": [
      "Enter the number of missionaries on boat:  0\n",
      "Enter the number of cannibals on boat:  1\n"
     ]
    },
    {
     "name": "stdout",
     "output_type": "stream",
     "text": [
      "💂 = 3 👹 = 1 |------B| 💂 = 0 👹 = 2\n",
      "💂💂💂👹 | 🌊🌊🌊🌊🌊🚢 👹👹\n"
     ]
    },
    {
     "name": "stdin",
     "output_type": "stream",
     "text": [
      "Enter the number of missionaries on boat:  0\n",
      "Enter the number of cannibals on boat:  2\n"
     ]
    },
    {
     "name": "stdout",
     "output_type": "stream",
     "text": [
      "💂 = 3 👹 = 3 |B------| 💂 = 0 👹 = 0\n",
      "💂💂💂👹👹👹 🚢 🌊🌊🌊🌊🌊 | \n",
      "You Win 🎉\n"
     ]
    }
   ],
   "source": [
    "from IPython.display import clear_output\n",
    "\n",
    "# Unicode Characters\n",
    "M_ICON = '\\U0001f482'  # 💂\n",
    "C_ICON = '\\U0001f479'  # 👹\n",
    "WATER = '\\U0001f30a' * 5  # 🌊🌊🌊🌊🌊\n",
    "BOAT = '\\U0001f6A2'  # 🚢\n",
    "\n",
    "b_s = 'right'\n",
    "m_r = 3\n",
    "c_r = 3\n",
    "m_l = 0\n",
    "c_l = 0\n",
    "\n",
    "# Initial state print\n",
    "print(M_ICON, '=', m_l, C_ICON, '=', c_l, '|------B|', M_ICON, '=', m_r, C_ICON, '=', c_r)\n",
    "\n",
    "while True:\n",
    "\n",
    "    m = int(input(\"Enter the number of missionaries on boat: \"))\n",
    "    c = int(input(\"Enter the number of cannibals on boat: \"))\n",
    "\n",
    "    if 1 <= m + c <= 2:\n",
    "\n",
    "        if b_s == 'right':\n",
    "            if m <= m_r and c <= c_r:\n",
    "                m_r -= m\n",
    "                c_r -= c\n",
    "                b_s = 'left'\n",
    "                m_l += m\n",
    "                c_l += c\n",
    "                print(M_ICON, '=', m_l, C_ICON, '=', c_l, '|B------|', M_ICON, '=', m_r, C_ICON, '=', c_r)\n",
    "                print(M_ICON * m_l + C_ICON * c_l, BOAT, WATER, '|', M_ICON * m_r + C_ICON * c_r)\n",
    "            else:\n",
    "                print(\"Because of :- 1 \")\n",
    "                continue\n",
    "\n",
    "        elif b_s == 'left':\n",
    "            if m <= m_l and c <= c_l:\n",
    "                m_l -= m\n",
    "                c_l -= c\n",
    "                b_s = 'right'\n",
    "                m_r += m\n",
    "                c_r += c\n",
    "                print(M_ICON, '=', m_l, C_ICON, '=', c_l, '|------B|', M_ICON, '=', m_r, C_ICON, '=', c_r)\n",
    "                print(M_ICON * m_l + C_ICON * c_l, '|', WATER + BOAT, M_ICON * m_r + C_ICON * c_r)\n",
    "            else:\n",
    "                print(\"Because of :- 2\")\n",
    "                continue\n",
    "\n",
    "        if (m_r < c_r and m_r > 0) or (m_l < c_l and m_l > 0):\n",
    "            print(\"You Lose 💀\")\n",
    "            break\n",
    "\n",
    "        if m_l == 3 and c_l == 3 and m_r == 0 and c_r == 0 and b_s == 'left':\n",
    "            print(\"You Win 🎉\")\n",
    "            break\n",
    "\n",
    "    else:\n",
    "        print(\"Maximum 2 and Minimum 1\")\n",
    "        continue\n"
   ]
  },
  {
   "cell_type": "code",
   "execution_count": null,
   "id": "0f9fdd10-8e18-4be8-89db-322c93d308ca",
   "metadata": {},
   "outputs": [],
   "source": []
  }
 ],
 "metadata": {
  "kernelspec": {
   "display_name": "Python 3 (ipykernel)",
   "language": "python",
   "name": "python3"
  },
  "language_info": {
   "codemirror_mode": {
    "name": "ipython",
    "version": 3
   },
   "file_extension": ".py",
   "mimetype": "text/x-python",
   "name": "python",
   "nbconvert_exporter": "python",
   "pygments_lexer": "ipython3",
   "version": "3.11.7"
  }
 },
 "nbformat": 4,
 "nbformat_minor": 5
}
